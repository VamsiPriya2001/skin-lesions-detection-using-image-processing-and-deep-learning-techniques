{
  "nbformat": 4,
  "nbformat_minor": 0,
  "metadata": {
    "colab": {
      "provenance": []
    },
    "kernelspec": {
      "name": "python3",
      "display_name": "Python 3"
    },
    "language_info": {
      "name": "python"
    }
  },
  "cells": [
    {
      "cell_type": "code",
      "execution_count": null,
      "metadata": {
        "id": "yB3K_Dlde7S9"
      },
      "outputs": [],
      "source": [
        "import pandas as pd\n",
        "import numpy as np"
      ]
    },
    {
      "cell_type": "code",
      "source": [
        "df=pd.read_csv('hmnist_28_28_RGB.csv')"
      ],
      "metadata": {
        "id": "853YTdjris5Q"
      },
      "execution_count": null,
      "outputs": []
    },
    {
      "cell_type": "code",
      "source": [
        "df.head()"
      ],
      "metadata": {
        "colab": {
          "base_uri": "https://localhost:8080/",
          "height": 255
        },
        "id": "FqdHVdFAiy4o",
        "outputId": "0bb22e1e-7764-4e83-a649-0c1d024a83fd"
      },
      "execution_count": null,
      "outputs": [
        {
          "output_type": "execute_result",
          "data": {
            "text/plain": [
              "   pixel0000  pixel0001  pixel0002  pixel0003  pixel0004  pixel0005  \\\n",
              "0        192        153        193        195        155        192   \n",
              "1         25         14         30         68         48         75   \n",
              "2        192        138        153        200        145        163   \n",
              "3         38         19         30         95         59         72   \n",
              "4        158        113        139        194        144        174   \n",
              "\n",
              "   pixel0006  pixel0007  pixel0008  pixel0009  ...  pixel2343  pixel2344  \\\n",
              "0        197        154        185        202  ...        173        124   \n",
              "1        123         93        126        158  ...         60         39   \n",
              "2        201        142        160        206  ...        167        129   \n",
              "3        143        103        119        171  ...         44         26   \n",
              "4        215        162        191        225  ...        209        166   \n",
              "\n",
              "   pixel2345  pixel2346  pixel2347  pixel2348  pixel2349  pixel2350  \\\n",
              "0        138        183        147        166        185        154   \n",
              "1         55         25         14         28         25         14   \n",
              "2        143        159        124        142        136        104   \n",
              "3         36         25         12         17         25         12   \n",
              "4        185        172        135        149        109         78   \n",
              "\n",
              "   pixel2351  label  \n",
              "0        177      2  \n",
              "1         27      2  \n",
              "2        117      2  \n",
              "3         15      2  \n",
              "4         92      2  \n",
              "\n",
              "[5 rows x 2353 columns]"
            ],
            "text/html": [
              "\n",
              "  <div id=\"df-39a4ecb3-07e2-45b0-98bb-42ff82d714ab\" class=\"colab-df-container\">\n",
              "    <div>\n",
              "<style scoped>\n",
              "    .dataframe tbody tr th:only-of-type {\n",
              "        vertical-align: middle;\n",
              "    }\n",
              "\n",
              "    .dataframe tbody tr th {\n",
              "        vertical-align: top;\n",
              "    }\n",
              "\n",
              "    .dataframe thead th {\n",
              "        text-align: right;\n",
              "    }\n",
              "</style>\n",
              "<table border=\"1\" class=\"dataframe\">\n",
              "  <thead>\n",
              "    <tr style=\"text-align: right;\">\n",
              "      <th></th>\n",
              "      <th>pixel0000</th>\n",
              "      <th>pixel0001</th>\n",
              "      <th>pixel0002</th>\n",
              "      <th>pixel0003</th>\n",
              "      <th>pixel0004</th>\n",
              "      <th>pixel0005</th>\n",
              "      <th>pixel0006</th>\n",
              "      <th>pixel0007</th>\n",
              "      <th>pixel0008</th>\n",
              "      <th>pixel0009</th>\n",
              "      <th>...</th>\n",
              "      <th>pixel2343</th>\n",
              "      <th>pixel2344</th>\n",
              "      <th>pixel2345</th>\n",
              "      <th>pixel2346</th>\n",
              "      <th>pixel2347</th>\n",
              "      <th>pixel2348</th>\n",
              "      <th>pixel2349</th>\n",
              "      <th>pixel2350</th>\n",
              "      <th>pixel2351</th>\n",
              "      <th>label</th>\n",
              "    </tr>\n",
              "  </thead>\n",
              "  <tbody>\n",
              "    <tr>\n",
              "      <th>0</th>\n",
              "      <td>192</td>\n",
              "      <td>153</td>\n",
              "      <td>193</td>\n",
              "      <td>195</td>\n",
              "      <td>155</td>\n",
              "      <td>192</td>\n",
              "      <td>197</td>\n",
              "      <td>154</td>\n",
              "      <td>185</td>\n",
              "      <td>202</td>\n",
              "      <td>...</td>\n",
              "      <td>173</td>\n",
              "      <td>124</td>\n",
              "      <td>138</td>\n",
              "      <td>183</td>\n",
              "      <td>147</td>\n",
              "      <td>166</td>\n",
              "      <td>185</td>\n",
              "      <td>154</td>\n",
              "      <td>177</td>\n",
              "      <td>2</td>\n",
              "    </tr>\n",
              "    <tr>\n",
              "      <th>1</th>\n",
              "      <td>25</td>\n",
              "      <td>14</td>\n",
              "      <td>30</td>\n",
              "      <td>68</td>\n",
              "      <td>48</td>\n",
              "      <td>75</td>\n",
              "      <td>123</td>\n",
              "      <td>93</td>\n",
              "      <td>126</td>\n",
              "      <td>158</td>\n",
              "      <td>...</td>\n",
              "      <td>60</td>\n",
              "      <td>39</td>\n",
              "      <td>55</td>\n",
              "      <td>25</td>\n",
              "      <td>14</td>\n",
              "      <td>28</td>\n",
              "      <td>25</td>\n",
              "      <td>14</td>\n",
              "      <td>27</td>\n",
              "      <td>2</td>\n",
              "    </tr>\n",
              "    <tr>\n",
              "      <th>2</th>\n",
              "      <td>192</td>\n",
              "      <td>138</td>\n",
              "      <td>153</td>\n",
              "      <td>200</td>\n",
              "      <td>145</td>\n",
              "      <td>163</td>\n",
              "      <td>201</td>\n",
              "      <td>142</td>\n",
              "      <td>160</td>\n",
              "      <td>206</td>\n",
              "      <td>...</td>\n",
              "      <td>167</td>\n",
              "      <td>129</td>\n",
              "      <td>143</td>\n",
              "      <td>159</td>\n",
              "      <td>124</td>\n",
              "      <td>142</td>\n",
              "      <td>136</td>\n",
              "      <td>104</td>\n",
              "      <td>117</td>\n",
              "      <td>2</td>\n",
              "    </tr>\n",
              "    <tr>\n",
              "      <th>3</th>\n",
              "      <td>38</td>\n",
              "      <td>19</td>\n",
              "      <td>30</td>\n",
              "      <td>95</td>\n",
              "      <td>59</td>\n",
              "      <td>72</td>\n",
              "      <td>143</td>\n",
              "      <td>103</td>\n",
              "      <td>119</td>\n",
              "      <td>171</td>\n",
              "      <td>...</td>\n",
              "      <td>44</td>\n",
              "      <td>26</td>\n",
              "      <td>36</td>\n",
              "      <td>25</td>\n",
              "      <td>12</td>\n",
              "      <td>17</td>\n",
              "      <td>25</td>\n",
              "      <td>12</td>\n",
              "      <td>15</td>\n",
              "      <td>2</td>\n",
              "    </tr>\n",
              "    <tr>\n",
              "      <th>4</th>\n",
              "      <td>158</td>\n",
              "      <td>113</td>\n",
              "      <td>139</td>\n",
              "      <td>194</td>\n",
              "      <td>144</td>\n",
              "      <td>174</td>\n",
              "      <td>215</td>\n",
              "      <td>162</td>\n",
              "      <td>191</td>\n",
              "      <td>225</td>\n",
              "      <td>...</td>\n",
              "      <td>209</td>\n",
              "      <td>166</td>\n",
              "      <td>185</td>\n",
              "      <td>172</td>\n",
              "      <td>135</td>\n",
              "      <td>149</td>\n",
              "      <td>109</td>\n",
              "      <td>78</td>\n",
              "      <td>92</td>\n",
              "      <td>2</td>\n",
              "    </tr>\n",
              "  </tbody>\n",
              "</table>\n",
              "<p>5 rows × 2353 columns</p>\n",
              "</div>\n",
              "    <div class=\"colab-df-buttons\">\n",
              "\n",
              "  <div class=\"colab-df-container\">\n",
              "    <button class=\"colab-df-convert\" onclick=\"convertToInteractive('df-39a4ecb3-07e2-45b0-98bb-42ff82d714ab')\"\n",
              "            title=\"Convert this dataframe to an interactive table.\"\n",
              "            style=\"display:none;\">\n",
              "\n",
              "  <svg xmlns=\"http://www.w3.org/2000/svg\" height=\"24px\" viewBox=\"0 -960 960 960\">\n",
              "    <path d=\"M120-120v-720h720v720H120Zm60-500h600v-160H180v160Zm220 220h160v-160H400v160Zm0 220h160v-160H400v160ZM180-400h160v-160H180v160Zm440 0h160v-160H620v160ZM180-180h160v-160H180v160Zm440 0h160v-160H620v160Z\"/>\n",
              "  </svg>\n",
              "    </button>\n",
              "\n",
              "  <style>\n",
              "    .colab-df-container {\n",
              "      display:flex;\n",
              "      gap: 12px;\n",
              "    }\n",
              "\n",
              "    .colab-df-convert {\n",
              "      background-color: #E8F0FE;\n",
              "      border: none;\n",
              "      border-radius: 50%;\n",
              "      cursor: pointer;\n",
              "      display: none;\n",
              "      fill: #1967D2;\n",
              "      height: 32px;\n",
              "      padding: 0 0 0 0;\n",
              "      width: 32px;\n",
              "    }\n",
              "\n",
              "    .colab-df-convert:hover {\n",
              "      background-color: #E2EBFA;\n",
              "      box-shadow: 0px 1px 2px rgba(60, 64, 67, 0.3), 0px 1px 3px 1px rgba(60, 64, 67, 0.15);\n",
              "      fill: #174EA6;\n",
              "    }\n",
              "\n",
              "    .colab-df-buttons div {\n",
              "      margin-bottom: 4px;\n",
              "    }\n",
              "\n",
              "    [theme=dark] .colab-df-convert {\n",
              "      background-color: #3B4455;\n",
              "      fill: #D2E3FC;\n",
              "    }\n",
              "\n",
              "    [theme=dark] .colab-df-convert:hover {\n",
              "      background-color: #434B5C;\n",
              "      box-shadow: 0px 1px 3px 1px rgba(0, 0, 0, 0.15);\n",
              "      filter: drop-shadow(0px 1px 2px rgba(0, 0, 0, 0.3));\n",
              "      fill: #FFFFFF;\n",
              "    }\n",
              "  </style>\n",
              "\n",
              "    <script>\n",
              "      const buttonEl =\n",
              "        document.querySelector('#df-39a4ecb3-07e2-45b0-98bb-42ff82d714ab button.colab-df-convert');\n",
              "      buttonEl.style.display =\n",
              "        google.colab.kernel.accessAllowed ? 'block' : 'none';\n",
              "\n",
              "      async function convertToInteractive(key) {\n",
              "        const element = document.querySelector('#df-39a4ecb3-07e2-45b0-98bb-42ff82d714ab');\n",
              "        const dataTable =\n",
              "          await google.colab.kernel.invokeFunction('convertToInteractive',\n",
              "                                                    [key], {});\n",
              "        if (!dataTable) return;\n",
              "\n",
              "        const docLinkHtml = 'Like what you see? Visit the ' +\n",
              "          '<a target=\"_blank\" href=https://colab.research.google.com/notebooks/data_table.ipynb>data table notebook</a>'\n",
              "          + ' to learn more about interactive tables.';\n",
              "        element.innerHTML = '';\n",
              "        dataTable['output_type'] = 'display_data';\n",
              "        await google.colab.output.renderOutput(dataTable, element);\n",
              "        const docLink = document.createElement('div');\n",
              "        docLink.innerHTML = docLinkHtml;\n",
              "        element.appendChild(docLink);\n",
              "      }\n",
              "    </script>\n",
              "  </div>\n",
              "\n",
              "\n",
              "<div id=\"df-48424896-a1cb-4fc7-9325-f7c97b96564e\">\n",
              "  <button class=\"colab-df-quickchart\" onclick=\"quickchart('df-48424896-a1cb-4fc7-9325-f7c97b96564e')\"\n",
              "            title=\"Suggest charts.\"\n",
              "            style=\"display:none;\">\n",
              "\n",
              "<svg xmlns=\"http://www.w3.org/2000/svg\" height=\"24px\"viewBox=\"0 0 24 24\"\n",
              "     width=\"24px\">\n",
              "    <g>\n",
              "        <path d=\"M19 3H5c-1.1 0-2 .9-2 2v14c0 1.1.9 2 2 2h14c1.1 0 2-.9 2-2V5c0-1.1-.9-2-2-2zM9 17H7v-7h2v7zm4 0h-2V7h2v10zm4 0h-2v-4h2v4z\"/>\n",
              "    </g>\n",
              "</svg>\n",
              "  </button>\n",
              "\n",
              "<style>\n",
              "  .colab-df-quickchart {\n",
              "      --bg-color: #E8F0FE;\n",
              "      --fill-color: #1967D2;\n",
              "      --hover-bg-color: #E2EBFA;\n",
              "      --hover-fill-color: #174EA6;\n",
              "      --disabled-fill-color: #AAA;\n",
              "      --disabled-bg-color: #DDD;\n",
              "  }\n",
              "\n",
              "  [theme=dark] .colab-df-quickchart {\n",
              "      --bg-color: #3B4455;\n",
              "      --fill-color: #D2E3FC;\n",
              "      --hover-bg-color: #434B5C;\n",
              "      --hover-fill-color: #FFFFFF;\n",
              "      --disabled-bg-color: #3B4455;\n",
              "      --disabled-fill-color: #666;\n",
              "  }\n",
              "\n",
              "  .colab-df-quickchart {\n",
              "    background-color: var(--bg-color);\n",
              "    border: none;\n",
              "    border-radius: 50%;\n",
              "    cursor: pointer;\n",
              "    display: none;\n",
              "    fill: var(--fill-color);\n",
              "    height: 32px;\n",
              "    padding: 0;\n",
              "    width: 32px;\n",
              "  }\n",
              "\n",
              "  .colab-df-quickchart:hover {\n",
              "    background-color: var(--hover-bg-color);\n",
              "    box-shadow: 0 1px 2px rgba(60, 64, 67, 0.3), 0 1px 3px 1px rgba(60, 64, 67, 0.15);\n",
              "    fill: var(--button-hover-fill-color);\n",
              "  }\n",
              "\n",
              "  .colab-df-quickchart-complete:disabled,\n",
              "  .colab-df-quickchart-complete:disabled:hover {\n",
              "    background-color: var(--disabled-bg-color);\n",
              "    fill: var(--disabled-fill-color);\n",
              "    box-shadow: none;\n",
              "  }\n",
              "\n",
              "  .colab-df-spinner {\n",
              "    border: 2px solid var(--fill-color);\n",
              "    border-color: transparent;\n",
              "    border-bottom-color: var(--fill-color);\n",
              "    animation:\n",
              "      spin 1s steps(1) infinite;\n",
              "  }\n",
              "\n",
              "  @keyframes spin {\n",
              "    0% {\n",
              "      border-color: transparent;\n",
              "      border-bottom-color: var(--fill-color);\n",
              "      border-left-color: var(--fill-color);\n",
              "    }\n",
              "    20% {\n",
              "      border-color: transparent;\n",
              "      border-left-color: var(--fill-color);\n",
              "      border-top-color: var(--fill-color);\n",
              "    }\n",
              "    30% {\n",
              "      border-color: transparent;\n",
              "      border-left-color: var(--fill-color);\n",
              "      border-top-color: var(--fill-color);\n",
              "      border-right-color: var(--fill-color);\n",
              "    }\n",
              "    40% {\n",
              "      border-color: transparent;\n",
              "      border-right-color: var(--fill-color);\n",
              "      border-top-color: var(--fill-color);\n",
              "    }\n",
              "    60% {\n",
              "      border-color: transparent;\n",
              "      border-right-color: var(--fill-color);\n",
              "    }\n",
              "    80% {\n",
              "      border-color: transparent;\n",
              "      border-right-color: var(--fill-color);\n",
              "      border-bottom-color: var(--fill-color);\n",
              "    }\n",
              "    90% {\n",
              "      border-color: transparent;\n",
              "      border-bottom-color: var(--fill-color);\n",
              "    }\n",
              "  }\n",
              "</style>\n",
              "\n",
              "  <script>\n",
              "    async function quickchart(key) {\n",
              "      const quickchartButtonEl =\n",
              "        document.querySelector('#' + key + ' button');\n",
              "      quickchartButtonEl.disabled = true;  // To prevent multiple clicks.\n",
              "      quickchartButtonEl.classList.add('colab-df-spinner');\n",
              "      try {\n",
              "        const charts = await google.colab.kernel.invokeFunction(\n",
              "            'suggestCharts', [key], {});\n",
              "      } catch (error) {\n",
              "        console.error('Error during call to suggestCharts:', error);\n",
              "      }\n",
              "      quickchartButtonEl.classList.remove('colab-df-spinner');\n",
              "      quickchartButtonEl.classList.add('colab-df-quickchart-complete');\n",
              "    }\n",
              "    (() => {\n",
              "      let quickchartButtonEl =\n",
              "        document.querySelector('#df-48424896-a1cb-4fc7-9325-f7c97b96564e button');\n",
              "      quickchartButtonEl.style.display =\n",
              "        google.colab.kernel.accessAllowed ? 'block' : 'none';\n",
              "    })();\n",
              "  </script>\n",
              "</div>\n",
              "    </div>\n",
              "  </div>\n"
            ]
          },
          "metadata": {},
          "execution_count": 3
        }
      ]
    },
    {
      "cell_type": "code",
      "source": [
        "fractions=np.array([0.8,0.2])\n",
        "\n",
        "df=df.sample(frac=1)\n",
        "\n",
        "train_set, test_set = np.array_split(df, (fractions[:-1].cumsum() * len(df)).astype(int))"
      ],
      "metadata": {
        "id": "X-690bmfi1xD"
      },
      "execution_count": null,
      "outputs": []
    },
    {
      "cell_type": "code",
      "source": [
        "print(len(train_set))"
      ],
      "metadata": {
        "colab": {
          "base_uri": "https://localhost:8080/"
        },
        "id": "WxhmfM5ui5tr",
        "outputId": "88012100-2fbc-423b-da5a-824f972e8722"
      },
      "execution_count": null,
      "outputs": [
        {
          "output_type": "stream",
          "name": "stdout",
          "text": [
            "8012\n"
          ]
        }
      ]
    },
    {
      "cell_type": "code",
      "source": [
        "print(len(test_set))"
      ],
      "metadata": {
        "colab": {
          "base_uri": "https://localhost:8080/"
        },
        "id": "vSWOnFUdjBVX",
        "outputId": "6242bad3-15a5-4bee-bc47-f0c10a7eeb86"
      },
      "execution_count": null,
      "outputs": [
        {
          "output_type": "stream",
          "name": "stdout",
          "text": [
            "2003\n"
          ]
        }
      ]
    },
    {
      "cell_type": "code",
      "source": [
        "df.label.unique()"
      ],
      "metadata": {
        "colab": {
          "base_uri": "https://localhost:8080/"
        },
        "id": "iQxpJYMQjEo6",
        "outputId": "984c4adf-797e-46f8-d263-74953fa045f6"
      },
      "execution_count": null,
      "outputs": [
        {
          "output_type": "execute_result",
          "data": {
            "text/plain": [
              "array([4, 0, 2, 1, 6, 5, 3])"
            ]
          },
          "metadata": {},
          "execution_count": 21
        }
      ]
    },
    {
      "cell_type": "code",
      "source": [
        "import seaborn as sns\n",
        "\n",
        "sns.countplot(train_set['label'])"
      ],
      "metadata": {
        "id": "KQPfZz1TjdkI"
      },
      "execution_count": null,
      "outputs": []
    },
    {
      "cell_type": "code",
      "source": [
        "classes={\n",
        "    0:('akiec', 'actinic keratoses and intraepithelial carcinomae'),\n",
        "\n",
        "    1:('bcc' , 'basal cell carcinoma'),\n",
        "\n",
        "    2:('bkl', 'benign keratosis-like lesions'),\n",
        "\n",
        "    3:('df', 'dermatofibroma'),\n",
        "\n",
        "    4:('nv', ' melanocytic nevi'),\n",
        "\n",
        "    5:('vasc', ' pyogenic granulomas and hemorrhage'),\n",
        "\n",
        "    6:('mel', 'melanoma'),\n",
        "}"
      ],
      "metadata": {
        "id": "tWxRGRGRjJhU"
      },
      "execution_count": null,
      "outputs": []
    },
    {
      "cell_type": "code",
      "source": [
        "y_train=train_set['label']\n",
        "\n",
        "x_train=train_set.drop(columns=['label'])\n",
        "\n",
        "y_test=test_set['label']\n",
        "\n",
        "x_test=test_set.drop(columns=['label'])\n",
        "\n",
        "columns=list(x_train)"
      ],
      "metadata": {
        "id": "TVo0oeU5jMNm"
      },
      "execution_count": null,
      "outputs": []
    },
    {
      "cell_type": "code",
      "source": [
        "import torch\n",
        "\n",
        "device = torch.device(\"cuda:0\" if torch.cuda.is_available() else \"cpu\")\n",
        "\n",
        "print(device)"
      ],
      "metadata": {
        "colab": {
          "base_uri": "https://localhost:8080/"
        },
        "id": "aeJe3_acjOjP",
        "outputId": "936f95b3-f51a-4898-8b16-a38d194ffbcb"
      },
      "execution_count": null,
      "outputs": [
        {
          "output_type": "stream",
          "name": "stdout",
          "text": [
            "cpu\n"
          ]
        }
      ]
    },
    {
      "cell_type": "code",
      "source": [
        "import seaborn as sns\n",
        "import matplotlib.pyplot as plt\n",
        "\n",
        "\n",
        "sns.countplot(train_set['label'])\n",
        "plt.show()"
      ],
      "metadata": {
        "id": "CNWuIgcajRjD"
      },
      "execution_count": null,
      "outputs": []
    },
    {
      "cell_type": "markdown",
      "source": [
        "![image.png](data:image/png;base64,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)"
      ],
      "metadata": {
        "id": "0eqntQoep3Oa"
      }
    },
    {
      "cell_type": "code",
      "source": [
        "from imblearn.over_sampling import RandomOverSampler\n",
        "\n",
        "oversample = RandomOverSampler()\n",
        "\n",
        "x_train,y_train  = oversample.fit_resample(x_train,y_train)"
      ],
      "metadata": {
        "id": "BcIAN-f2jWsn"
      },
      "execution_count": null,
      "outputs": []
    },
    {
      "cell_type": "markdown",
      "source": [
        "![image.png](data:image/png;base64,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)"
      ],
      "metadata": {
        "id": "EiZFyIpVqM1U"
      }
    },
    {
      "cell_type": "code",
      "source": [
        "sns.countplot(y_train)"
      ],
      "metadata": {
        "id": "r665TBc8jsBS"
      },
      "execution_count": null,
      "outputs": []
    },
    {
      "cell_type": "code",
      "source": [
        "import matplotlib.pyplot as plt\n",
        "import random\n",
        "\n",
        "num=random.randint(0,8000)\n",
        "x_train=np.array(x_train, dtype=np.uint8).reshape(-1,28,28,3)\n",
        "\n",
        "plt.imshow(x_train[num].reshape(28,28,3))\n",
        "plt.title(\"Random image from training data\")\n",
        "plt.show()\n",
        "num=random.randint(0,8000)\n",
        "plt.imshow(x_train[num].reshape(28,28,3))\n",
        "plt.title(\"Random image from training data\")\n",
        "plt.show()\n",
        "\n",
        "num=random.randint(0,8000)\n",
        "plt.imshow(x_train[num].reshape(28,28,3))\n",
        "plt.title(\"Random image from training data\")\n",
        "plt.show()"
      ],
      "metadata": {
        "colab": {
          "base_uri": "https://localhost:8080/",
          "height": 1000
        },
        "id": "Meiv-mzCjwq6",
        "outputId": "6f90489a-00e5-4252-a8c5-3e6e7b69d5d9"
      },
      "execution_count": null,
      "outputs": [
        {
          "output_type": "display_data",
          "data": {
            "text/plain": [
              "<Figure size 640x480 with 1 Axes>"
            ],
            "image/png": "[encoded data removed]"
          },
          "metadata": {}
        },
        {
          "output_type": "display_data",
          "data": {
            "text/plain": [
              "<Figure size 640x480 with 1 Axes>"
            ],
            "image/png": "[encoded data removed]"
          },
          "metadata": {}
        },
        {
          "output_type": "display_data",
          "data": {
            "text/plain": [
              "<Figure size 640x480 with 1 Axes>"
            ],
            "image/png": "[encoded data removed]"
          },
          "metadata": {}
        }
      ]
    },
    {
      "cell_type": "code",
      "source": [
        "from tensorflow.keras.models import Sequential\n",
        "from tensorflow.keras.layers import Conv2D, Flatten, Dense, MaxPool2D\n",
        "import tensorflow as tf"
      ],
      "metadata": {
        "id": "_CYeqRiDk12R"
      },
      "execution_count": null,
      "outputs": []
    },
    {
      "cell_type": "code",
      "source": [
        "model = Sequential()\n",
        "\n",
        "model.add(Conv2D(16,\n",
        "                 kernel_size = (3,3),\n",
        "                 input_shape = (28, 28, 3),\n",
        "                 activation = 'relu',\n",
        "                 padding = 'same'))\n",
        "\n",
        "model.add(MaxPool2D(pool_size = (2,2)))\n",
        "model.add(tf.keras.layers.BatchNormalization())\n",
        "\n",
        "model.add(Conv2D(32,\n",
        "                 kernel_size = (3,3),\n",
        "                 activation = 'relu'))\n",
        "\n",
        "model.add(Conv2D(64,\n",
        "                 kernel_size = (3,3),\n",
        "                 activation = 'relu'))\n",
        "\n",
        "model.add(MaxPool2D(pool_size = (2,2)))\n",
        "\n",
        "model.add(tf.keras.layers.BatchNormalization())\n",
        "\n",
        "model.add(Conv2D(128,\n",
        "                 kernel_size = (3,3),\n",
        "                 activation = 'relu'))\n",
        "\n",
        "model.add(Conv2D(256,\n",
        "                 kernel_size = (3,3),\n",
        "                 activation = 'relu'))\n",
        "\n",
        "model.add(Flatten())\n",
        "model.add(tf.keras.layers.Dropout(0.2))\n",
        "model.add(Dense(256,activation='relu'))\n",
        "\n",
        "model.add(tf.keras.layers.BatchNormalization())\n",
        "model.add(tf.keras.layers.Dropout(0.2))\n",
        "model.add(Dense(128,activation='relu'))\n",
        "\n",
        "model.add(tf.keras.layers.BatchNormalization())\n",
        "model.add(Dense(64,activation='relu'))\n",
        "\n",
        "model.add(tf.keras.layers.BatchNormalization())\n",
        "model.add(tf.keras.layers.Dropout(0.2))\n",
        "model.add(Dense(32,activation='relu'))\n",
        "\n",
        "model.add(tf.keras.layers.BatchNormalization())\n",
        "model.add(Dense(7,activation='softmax'))\n",
        "\n",
        "model.summary()"
      ],
      "metadata": {
        "colab": {
          "base_uri": "https://localhost:8080/"
        },
        "id": "247h6pzuk8fH",
        "outputId": "7d6d5fbe-08e0-4467-87a4-87349d556eb8"
      },
      "execution_count": null,
      "outputs": [
        {
          "output_type": "stream",
          "name": "stdout",
          "text": [
            "Model: \"sequential\"\n",
            "_________________________________________________________________\n",
            " Layer (type)                Output Shape              Param #   \n",
            "=================================================================\n",
            " conv2d (Conv2D)             (None, 28, 28, 16)        448       \n",
            "                                                                 \n",
            " max_pooling2d (MaxPooling2  (None, 14, 14, 16)        0         \n",
            " D)                                                              \n",
            "                                                                 \n",
            " batch_normalization (Batch  (None, 14, 14, 16)        64        \n",
            " Normalization)                                                  \n",
            "                                                                 \n",
            " conv2d_1 (Conv2D)           (None, 12, 12, 32)        4640      \n",
            "                                                                 \n",
            " conv2d_2 (Conv2D)           (None, 10, 10, 64)        18496     \n",
            "                                                                 \n",
            " max_pooling2d_1 (MaxPoolin  (None, 5, 5, 64)          0         \n",
            " g2D)                                                            \n",
            "                                                                 \n",
            " batch_normalization_1 (Bat  (None, 5, 5, 64)          256       \n",
            " chNormalization)                                                \n",
            "                                                                 \n",
            " conv2d_3 (Conv2D)           (None, 3, 3, 128)         73856     \n",
            "                                                                 \n",
            " conv2d_4 (Conv2D)           (None, 1, 1, 256)         295168    \n",
            "                                                                 \n",
            " flatten (Flatten)           (None, 256)               0         \n",
            "                                                                 \n",
            " dropout (Dropout)           (None, 256)               0         \n",
            "                                                                 \n",
            " dense (Dense)               (None, 256)               65792     \n",
            "                                                                 \n",
            " batch_normalization_2 (Bat  (None, 256)               1024      \n",
            " chNormalization)                                                \n",
            "                                                                 \n",
            " dropout_1 (Dropout)         (None, 256)               0         \n",
            "                                                                 \n",
            " dense_1 (Dense)             (None, 128)               32896     \n",
            "                                                                 \n",
            " batch_normalization_3 (Bat  (None, 128)               512       \n",
            " chNormalization)                                                \n",
            "                                                                 \n",
            " dense_2 (Dense)             (None, 64)                8256      \n",
            "                                                                 \n",
            " batch_normalization_4 (Bat  (None, 64)                256       \n",
            " chNormalization)                                                \n",
            "                                                                 \n",
            " dropout_2 (Dropout)         (None, 64)                0         \n",
            "                                                                 \n",
            " dense_3 (Dense)             (None, 32)                2080      \n",
            "                                                                 \n",
            " batch_normalization_5 (Bat  (None, 32)                128       \n",
            " chNormalization)                                                \n",
            "                                                                 \n",
            " dense_4 (Dense)             (None, 7)                 231       \n",
            "                                                                 \n",
            "=================================================================\n",
            "Total params: 504103 (1.92 MB)\n",
            "Trainable params: 502983 (1.92 MB)\n",
            "Non-trainable params: 1120 (4.38 KB)\n",
            "_________________________________________________________________\n"
          ]
        }
      ]
    },
    {
      "cell_type": "code",
      "source": [
        "callback = tf.keras.callbacks.ModelCheckpoint(filepath='best_model.h5',\n",
        "                                              monitor='val_acc',\n",
        "                                              mode='max',\n",
        "                                              verbose=1,\n",
        "                                              save_best_only=True)"
      ],
      "metadata": {
        "id": "8_8m1ogUlBWL"
      },
      "execution_count": null,
      "outputs": []
    },
    {
      "cell_type": "code",
      "source": [
        "optimizer=tf.keras.optimizers.Adam(learning_rate=0.001)\n",
        "\n",
        "model.compile(loss = 'sparse_categorical_crossentropy',\n",
        "              optimizer =optimizer,\n",
        "              metrics = ['accuracy'])"
      ],
      "metadata": {
        "id": "q5usgiIWlFut"
      },
      "execution_count": null,
      "outputs": []
    },
    {
      "cell_type": "code",
      "source": [
        "from datetime import datetime\n",
        "\n",
        "start_time = datetime.now()\n",
        "\n",
        "history = model.fit(x_train,\n",
        "                    y_train,\n",
        "                    validation_split=0.2,\n",
        "                    batch_size = 128,\n",
        "                    epochs = 50,\n",
        "                    shuffle=True,\n",
        "                    callbacks=[callback])\n",
        "\n",
        "end_time = datetime.now()\n",
        "\n",
        "print('Duration: {}'.format(end_time - start_time))"
      ],
      "metadata": {
        "colab": {
          "base_uri": "https://localhost:8080/"
        },
        "id": "F8W8UwitlHk1",
        "outputId": "8c9f1f10-2937-4bd2-c4c6-e3a7b1780e5f"
      },
      "execution_count": null,
      "outputs": [
        {
          "output_type": "stream",
          "name": "stdout",
          "text": [
            "Epoch 1/50\n",
            "50/51 [============================>.] - ETA: 0s - loss: 0.0471 - accuracy: 0.9872"
          ]
        },
        {
          "output_type": "stream",
          "name": "stderr",
          "text": [
            "WARNING:tensorflow:Can save best model only with val_acc available, skipping.\n"
          ]
        },
        {
          "output_type": "stream",
          "name": "stdout",
          "text": [
            "\b\b\b\b\b\b\b\b\b\b\b\b\b\b\b\b\b\b\b\b\b\b\b\b\b\b\b\b\b\b\b\b\b\b\b\b\b\b\b\b\b\b\b\b\b\b\b\b\b\b\b\b\b\b\b\b\b\b\b\b\b\b\b\b\b\b\b\b\b\b\b\b\b\b\b\b\b\b\b\b\b\b\r51/51 [==============================] - 10s 202ms/step - loss: 0.0475 - accuracy: 0.9870 - val_loss: 1.4113 - val_accuracy: 0.7193\n",
            "Epoch 2/50\n",
            "50/51 [============================>.] - ETA: 0s - loss: 0.1538 - accuracy: 0.9506"
          ]
        },
        {
          "output_type": "stream",
          "name": "stderr",
          "text": [
            "WARNING:tensorflow:Can save best model only with val_acc available, skipping.\n"
          ]
        },
        {
          "output_type": "stream",
          "name": "stdout",
          "text": [
            "\b\b\b\b\b\b\b\b\b\b\b\b\b\b\b\b\b\b\b\b\b\b\b\b\b\b\b\b\b\b\b\b\b\b\b\b\b\b\b\b\b\b\b\b\b\b\b\b\b\b\b\b\b\b\b\b\b\b\b\b\b\b\b\b\b\b\b\b\b\b\b\b\b\b\b\b\b\b\b\b\b\b\r51/51 [==============================] - 15s 306ms/step - loss: 0.1543 - accuracy: 0.9505 - val_loss: 1.1927 - val_accuracy: 0.7392\n",
            "Epoch 3/50\n",
            "50/51 [============================>.] - ETA: 0s - loss: 0.0803 - accuracy: 0.9734"
          ]
        },
        {
          "output_type": "stream",
          "name": "stderr",
          "text": [
            "WARNING:tensorflow:Can save best model only with val_acc available, skipping.\n"
          ]
        },
        {
          "output_type": "stream",
          "name": "stdout",
          "text": [
            "\b\b\b\b\b\b\b\b\b\b\b\b\b\b\b\b\b\b\b\b\b\b\b\b\b\b\b\b\b\b\b\b\b\b\b\b\b\b\b\b\b\b\b\b\b\b\b\b\b\b\b\b\b\b\b\b\b\b\b\b\b\b\b\b\b\b\b\b\b\b\b\b\b\b\b\b\b\b\b\b\b\b\r51/51 [==============================] - 18s 354ms/step - loss: 0.0807 - accuracy: 0.9733 - val_loss: 1.2427 - val_accuracy: 0.7286\n",
            "Epoch 4/50\n",
            "50/51 [============================>.] - ETA: 0s - loss: 0.0814 - accuracy: 0.9741"
          ]
        },
        {
          "output_type": "stream",
          "name": "stderr",
          "text": [
            "WARNING:tensorflow:Can save best model only with val_acc available, skipping.\n"
          ]
        },
        {
          "output_type": "stream",
          "name": "stdout",
          "text": [
            "\b\b\b\b\b\b\b\b\b\b\b\b\b\b\b\b\b\b\b\b\b\b\b\b\b\b\b\b\b\b\b\b\b\b\b\b\b\b\b\b\b\b\b\b\b\b\b\b\b\b\b\b\b\b\b\b\b\b\b\b\b\b\b\b\b\b\b\b\b\b\b\b\b\b\b\b\b\b\b\b\b\b\r51/51 [==============================] - 11s 216ms/step - loss: 0.0820 - accuracy: 0.9739 - val_loss: 1.4339 - val_accuracy: 0.7274\n",
            "Epoch 5/50\n",
            "50/51 [============================>.] - ETA: 0s - loss: 0.1140 - accuracy: 0.9638"
          ]
        },
        {
          "output_type": "stream",
          "name": "stderr",
          "text": [
            "WARNING:tensorflow:Can save best model only with val_acc available, skipping.\n"
          ]
        },
        {
          "output_type": "stream",
          "name": "stdout",
          "text": [
            "\b\b\b\b\b\b\b\b\b\b\b\b\b\b\b\b\b\b\b\b\b\b\b\b\b\b\b\b\b\b\b\b\b\b\b\b\b\b\b\b\b\b\b\b\b\b\b\b\b\b\b\b\b\b\b\b\b\b\b\b\b\b\b\b\b\b\b\b\b\b\b\b\b\b\b\b\b\b\b\b\b\b\r51/51 [==============================] - 10s 190ms/step - loss: 0.1162 - accuracy: 0.9632 - val_loss: 1.2995 - val_accuracy: 0.7155\n",
            "Epoch 6/50\n",
            "50/51 [============================>.] - ETA: 0s - loss: 0.1866 - accuracy: 0.9395"
          ]
        },
        {
          "output_type": "stream",
          "name": "stderr",
          "text": [
            "WARNING:tensorflow:Can save best model only with val_acc available, skipping.\n"
          ]
        },
        {
          "output_type": "stream",
          "name": "stdout",
          "text": [
            "\b\b\b\b\b\b\b\b\b\b\b\b\b\b\b\b\b\b\b\b\b\b\b\b\b\b\b\b\b\b\b\b\b\b\b\b\b\b\b\b\b\b\b\b\b\b\b\b\b\b\b\b\b\b\b\b\b\b\b\b\b\b\b\b\b\b\b\b\b\b\b\b\b\b\b\b\b\b\b\b\b\b\r51/51 [==============================] - 10s 188ms/step - loss: 0.1871 - accuracy: 0.9393 - val_loss: 1.2364 - val_accuracy: 0.7174\n",
            "Epoch 7/50\n",
            "50/51 [============================>.] - ETA: 0s - loss: 0.1024 - accuracy: 0.9672"
          ]
        },
        {
          "output_type": "stream",
          "name": "stderr",
          "text": [
            "WARNING:tensorflow:Can save best model only with val_acc available, skipping.\n"
          ]
        },
        {
          "output_type": "stream",
          "name": "stdout",
          "text": [
            "\b\b\b\b\b\b\b\b\b\b\b\b\b\b\b\b\b\b\b\b\b\b\b\b\b\b\b\b\b\b\b\b\b\b\b\b\b\b\b\b\b\b\b\b\b\b\b\b\b\b\b\b\b\b\b\b\b\b\b\b\b\b\b\b\b\b\b\b\b\b\b\b\b\b\b\b\b\b\b\b\b\b\r51/51 [==============================] - 9s 169ms/step - loss: 0.1028 - accuracy: 0.9671 - val_loss: 1.2297 - val_accuracy: 0.7392\n",
            "Epoch 8/50\n",
            "50/51 [============================>.] - ETA: 0s - loss: 0.0628 - accuracy: 0.9802"
          ]
        },
        {
          "output_type": "stream",
          "name": "stderr",
          "text": [
            "WARNING:tensorflow:Can save best model only with val_acc available, skipping.\n"
          ]
        },
        {
          "output_type": "stream",
          "name": "stdout",
          "text": [
            "\b\b\b\b\b\b\b\b\b\b\b\b\b\b\b\b\b\b\b\b\b\b\b\b\b\b\b\b\b\b\b\b\b\b\b\b\b\b\b\b\b\b\b\b\b\b\b\b\b\b\b\b\b\b\b\b\b\b\b\b\b\b\b\b\b\b\b\b\b\b\b\b\b\b\b\b\b\b\b\b\b\b\r51/51 [==============================] - 10s 190ms/step - loss: 0.0628 - accuracy: 0.9802 - val_loss: 1.3225 - val_accuracy: 0.7199\n",
            "Epoch 9/50\n",
            "50/51 [============================>.] - ETA: 0s - loss: 0.0290 - accuracy: 0.9920"
          ]
        },
        {
          "output_type": "stream",
          "name": "stderr",
          "text": [
            "WARNING:tensorflow:Can save best model only with val_acc available, skipping.\n"
          ]
        },
        {
          "output_type": "stream",
          "name": "stdout",
          "text": [
            "\b\b\b\b\b\b\b\b\b\b\b\b\b\b\b\b\b\b\b\b\b\b\b\b\b\b\b\b\b\b\b\b\b\b\b\b\b\b\b\b\b\b\b\b\b\b\b\b\b\b\b\b\b\b\b\b\b\b\b\b\b\b\b\b\b\b\b\b\b\b\b\b\b\b\b\b\b\b\b\b\b\b\r51/51 [==============================] - 10s 192ms/step - loss: 0.0291 - accuracy: 0.9920 - val_loss: 1.3343 - val_accuracy: 0.7424\n",
            "Epoch 10/50\n",
            "50/51 [============================>.] - ETA: 0s - loss: 0.0500 - accuracy: 0.9847"
          ]
        },
        {
          "output_type": "stream",
          "name": "stderr",
          "text": [
            "WARNING:tensorflow:Can save best model only with val_acc available, skipping.\n"
          ]
        },
        {
          "output_type": "stream",
          "name": "stdout",
          "text": [
            "\b\b\b\b\b\b\b\b\b\b\b\b\b\b\b\b\b\b\b\b\b\b\b\b\b\b\b\b\b\b\b\b\b\b\b\b\b\b\b\b\b\b\b\b\b\b\b\b\b\b\b\b\b\b\b\b\b\b\b\b\b\b\b\b\b\b\b\b\b\b\b\b\b\b\b\b\b\b\b\b\b\b\r51/51 [==============================] - 10s 200ms/step - loss: 0.0508 - accuracy: 0.9844 - val_loss: 1.4404 - val_accuracy: 0.7380\n",
            "Epoch 11/50\n",
            "50/51 [============================>.] - ETA: 0s - loss: 0.0599 - accuracy: 0.9814"
          ]
        },
        {
          "output_type": "stream",
          "name": "stderr",
          "text": [
            "WARNING:tensorflow:Can save best model only with val_acc available, skipping.\n"
          ]
        },
        {
          "output_type": "stream",
          "name": "stdout",
          "text": [
            "\b\b\b\b\b\b\b\b\b\b\b\b\b\b\b\b\b\b\b\b\b\b\b\b\b\b\b\b\b\b\b\b\b\b\b\b\b\b\b\b\b\b\b\b\b\b\b\b\b\b\b\b\b\b\b\b\b\b\b\b\b\b\b\b\b\b\b\b\b\b\b\b\b\b\b\b\b\b\b\b\b\b\r51/51 [==============================] - 8s 164ms/step - loss: 0.0628 - accuracy: 0.9811 - val_loss: 1.6566 - val_accuracy: 0.7124\n",
            "Epoch 12/50\n",
            "50/51 [============================>.] - ETA: 0s - loss: 0.1674 - accuracy: 0.9505"
          ]
        },
        {
          "output_type": "stream",
          "name": "stderr",
          "text": [
            "WARNING:tensorflow:Can save best model only with val_acc available, skipping.\n"
          ]
        },
        {
          "output_type": "stream",
          "name": "stdout",
          "text": [
            "\b\b\b\b\b\b\b\b\b\b\b\b\b\b\b\b\b\b\b\b\b\b\b\b\b\b\b\b\b\b\b\b\b\b\b\b\b\b\b\b\b\b\b\b\b\b\b\b\b\b\b\b\b\b\b\b\b\b\b\b\b\b\b\b\b\b\b\b\b\b\b\b\b\b\b\b\b\b\b\b\b\b\r51/51 [==============================] - 10s 192ms/step - loss: 0.1675 - accuracy: 0.9504 - val_loss: 1.2168 - val_accuracy: 0.7305\n",
            "Epoch 13/50\n",
            "50/51 [============================>.] - ETA: 0s - loss: 0.0587 - accuracy: 0.9825"
          ]
        },
        {
          "output_type": "stream",
          "name": "stderr",
          "text": [
            "WARNING:tensorflow:Can save best model only with val_acc available, skipping.\n"
          ]
        },
        {
          "output_type": "stream",
          "name": "stdout",
          "text": [
            "\b\b\b\b\b\b\b\b\b\b\b\b\b\b\b\b\b\b\b\b\b\b\b\b\b\b\b\b\b\b\b\b\b\b\b\b\b\b\b\b\b\b\b\b\b\b\b\b\b\b\b\b\b\b\b\b\b\b\b\b\b\b\b\b\b\b\b\b\b\b\b\b\b\b\b\b\b\b\b\b\b\b\r51/51 [==============================] - 12s 230ms/step - loss: 0.0591 - accuracy: 0.9824 - val_loss: 1.1626 - val_accuracy: 0.7449\n",
            "Epoch 14/50\n",
            "50/51 [============================>.] - ETA: 0s - loss: 0.0787 - accuracy: 0.9745"
          ]
        },
        {
          "output_type": "stream",
          "name": "stderr",
          "text": [
            "WARNING:tensorflow:Can save best model only with val_acc available, skipping.\n"
          ]
        },
        {
          "output_type": "stream",
          "name": "stdout",
          "text": [
            "\b\b\b\b\b\b\b\b\b\b\b\b\b\b\b\b\b\b\b\b\b\b\b\b\b\b\b\b\b\b\b\b\b\b\b\b\b\b\b\b\b\b\b\b\b\b\b\b\b\b\b\b\b\b\b\b\b\b\b\b\b\b\b\b\b\b\b\b\b\b\b\b\b\b\b\b\b\b\b\b\b\b\r51/51 [==============================] - 10s 188ms/step - loss: 0.0787 - accuracy: 0.9746 - val_loss: 1.4110 - val_accuracy: 0.7211\n",
            "Epoch 15/50\n",
            "50/51 [============================>.] - ETA: 0s - loss: 0.0362 - accuracy: 0.9894"
          ]
        },
        {
          "output_type": "stream",
          "name": "stderr",
          "text": [
            "WARNING:tensorflow:Can save best model only with val_acc available, skipping.\n"
          ]
        },
        {
          "output_type": "stream",
          "name": "stdout",
          "text": [
            "\b\b\b\b\b\b\b\b\b\b\b\b\b\b\b\b\b\b\b\b\b\b\b\b\b\b\b\b\b\b\b\b\b\b\b\b\b\b\b\b\b\b\b\b\b\b\b\b\b\b\b\b\b\b\b\b\b\b\b\b\b\b\b\b\b\b\b\b\b\b\b\b\b\b\b\b\b\b\b\b\b\b\r51/51 [==============================] - 9s 170ms/step - loss: 0.0362 - accuracy: 0.9894 - val_loss: 1.3048 - val_accuracy: 0.7386\n",
            "Epoch 16/50\n",
            "50/51 [============================>.] - ETA: 0s - loss: 0.0185 - accuracy: 0.9953"
          ]
        },
        {
          "output_type": "stream",
          "name": "stderr",
          "text": [
            "WARNING:tensorflow:Can save best model only with val_acc available, skipping.\n"
          ]
        },
        {
          "output_type": "stream",
          "name": "stdout",
          "text": [
            "\b\b\b\b\b\b\b\b\b\b\b\b\b\b\b\b\b\b\b\b\b\b\b\b\b\b\b\b\b\b\b\b\b\b\b\b\b\b\b\b\b\b\b\b\b\b\b\b\b\b\b\b\b\b\b\b\b\b\b\b\b\b\b\b\b\b\b\b\b\b\b\b\b\b\b\b\b\b\b\b\b\b\r51/51 [==============================] - 10s 189ms/step - loss: 0.0186 - accuracy: 0.9953 - val_loss: 1.4186 - val_accuracy: 0.7492\n",
            "Epoch 17/50\n",
            "50/51 [============================>.] - ETA: 0s - loss: 0.0297 - accuracy: 0.9903"
          ]
        },
        {
          "output_type": "stream",
          "name": "stderr",
          "text": [
            "WARNING:tensorflow:Can save best model only with val_acc available, skipping.\n"
          ]
        },
        {
          "output_type": "stream",
          "name": "stdout",
          "text": [
            "\b\b\b\b\b\b\b\b\b\b\b\b\b\b\b\b\b\b\b\b\b\b\b\b\b\b\b\b\b\b\b\b\b\b\b\b\b\b\b\b\b\b\b\b\b\b\b\b\b\b\b\b\b\b\b\b\b\b\b\b\b\b\b\b\b\b\b\b\b\b\b\b\b\b\b\b\b\b\b\b\b\b\r51/51 [==============================] - 10s 191ms/step - loss: 0.0297 - accuracy: 0.9903 - val_loss: 1.4562 - val_accuracy: 0.7280\n",
            "Epoch 18/50\n",
            "50/51 [============================>.] - ETA: 0s - loss: 0.0207 - accuracy: 0.9942"
          ]
        },
        {
          "output_type": "stream",
          "name": "stderr",
          "text": [
            "WARNING:tensorflow:Can save best model only with val_acc available, skipping.\n"
          ]
        },
        {
          "output_type": "stream",
          "name": "stdout",
          "text": [
            "\b\b\b\b\b\b\b\b\b\b\b\b\b\b\b\b\b\b\b\b\b\b\b\b\b\b\b\b\b\b\b\b\b\b\b\b\b\b\b\b\b\b\b\b\b\b\b\b\b\b\b\b\b\b\b\b\b\b\b\b\b\b\b\b\b\b\b\b\b\b\b\b\b\b\b\b\b\b\b\b\b\b\r51/51 [==============================] - 10s 188ms/step - loss: 0.0207 - accuracy: 0.9942 - val_loss: 1.4404 - val_accuracy: 0.7380\n",
            "Epoch 19/50\n",
            "50/51 [============================>.] - ETA: 0s - loss: 0.0160 - accuracy: 0.9950"
          ]
        },
        {
          "output_type": "stream",
          "name": "stderr",
          "text": [
            "WARNING:tensorflow:Can save best model only with val_acc available, skipping.\n"
          ]
        },
        {
          "output_type": "stream",
          "name": "stdout",
          "text": [
            "\b\b\b\b\b\b\b\b\b\b\b\b\b\b\b\b\b\b\b\b\b\b\b\b\b\b\b\b\b\b\b\b\b\b\b\b\b\b\b\b\b\b\b\b\b\b\b\b\b\b\b\b\b\b\b\b\b\b\b\b\b\b\b\b\b\b\b\b\b\b\b\b\b\b\b\b\b\b\b\b\b\b\r51/51 [==============================] - 9s 169ms/step - loss: 0.0170 - accuracy: 0.9945 - val_loss: 1.4918 - val_accuracy: 0.7386\n",
            "Epoch 20/50\n",
            "50/51 [============================>.] - ETA: 0s - loss: 0.1497 - accuracy: 0.9541"
          ]
        },
        {
          "output_type": "stream",
          "name": "stderr",
          "text": [
            "WARNING:tensorflow:Can save best model only with val_acc available, skipping.\n"
          ]
        },
        {
          "output_type": "stream",
          "name": "stdout",
          "text": [
            "\b\b\b\b\b\b\b\b\b\b\b\b\b\b\b\b\b\b\b\b\b\b\b\b\b\b\b\b\b\b\b\b\b\b\b\b\b\b\b\b\b\b\b\b\b\b\b\b\b\b\b\b\b\b\b\b\b\b\b\b\b\b\b\b\b\b\b\b\b\b\b\b\b\b\b\b\b\b\b\b\b\b\r51/51 [==============================] - 10s 189ms/step - loss: 0.1496 - accuracy: 0.9541 - val_loss: 1.3383 - val_accuracy: 0.7411\n",
            "Epoch 21/50\n",
            "50/51 [============================>.] - ETA: 0s - loss: 0.0420 - accuracy: 0.9878"
          ]
        },
        {
          "output_type": "stream",
          "name": "stderr",
          "text": [
            "WARNING:tensorflow:Can save best model only with val_acc available, skipping.\n"
          ]
        },
        {
          "output_type": "stream",
          "name": "stdout",
          "text": [
            "\b\b\b\b\b\b\b\b\b\b\b\b\b\b\b\b\b\b\b\b\b\b\b\b\b\b\b\b\b\b\b\b\b\b\b\b\b\b\b\b\b\b\b\b\b\b\b\b\b\b\b\b\b\b\b\b\b\b\b\b\b\b\b\b\b\b\b\b\b\b\b\b\b\b\b\b\b\b\b\b\b\b\r51/51 [==============================] - 10s 190ms/step - loss: 0.0421 - accuracy: 0.9877 - val_loss: 1.4232 - val_accuracy: 0.7274\n",
            "Epoch 22/50\n",
            "50/51 [============================>.] - ETA: 0s - loss: 0.0363 - accuracy: 0.9892"
          ]
        },
        {
          "output_type": "stream",
          "name": "stderr",
          "text": [
            "WARNING:tensorflow:Can save best model only with val_acc available, skipping.\n"
          ]
        },
        {
          "output_type": "stream",
          "name": "stdout",
          "text": [
            "\b\b\b\b\b\b\b\b\b\b\b\b\b\b\b\b\b\b\b\b\b\b\b\b\b\b\b\b\b\b\b\b\b\b\b\b\b\b\b\b\b\b\b\b\b\b\b\b\b\b\b\b\b\b\b\b\b\b\b\b\b\b\b\b\b\b\b\b\b\b\b\b\b\b\b\b\b\b\b\b\b\b\r51/51 [==============================] - 9s 184ms/step - loss: 0.0363 - accuracy: 0.9892 - val_loss: 1.3658 - val_accuracy: 0.7361\n",
            "Epoch 23/50\n",
            "50/51 [============================>.] - ETA: 0s - loss: 0.0319 - accuracy: 0.9909"
          ]
        },
        {
          "output_type": "stream",
          "name": "stderr",
          "text": [
            "WARNING:tensorflow:Can save best model only with val_acc available, skipping.\n"
          ]
        },
        {
          "output_type": "stream",
          "name": "stdout",
          "text": [
            "\b\b\b\b\b\b\b\b\b\b\b\b\b\b\b\b\b\b\b\b\b\b\b\b\b\b\b\b\b\b\b\b\b\b\b\b\b\b\b\b\b\b\b\b\b\b\b\b\b\b\b\b\b\b\b\b\b\b\b\b\b\b\b\b\b\b\b\b\b\b\b\b\b\b\b\b\b\b\b\b\b\b\r51/51 [==============================] - 8s 163ms/step - loss: 0.0320 - accuracy: 0.9908 - val_loss: 1.5148 - val_accuracy: 0.7461\n",
            "Epoch 24/50\n",
            "50/51 [============================>.] - ETA: 0s - loss: 0.0580 - accuracy: 0.9802"
          ]
        },
        {
          "output_type": "stream",
          "name": "stderr",
          "text": [
            "WARNING:tensorflow:Can save best model only with val_acc available, skipping.\n"
          ]
        },
        {
          "output_type": "stream",
          "name": "stdout",
          "text": [
            "\b\b\b\b\b\b\b\b\b\b\b\b\b\b\b\b\b\b\b\b\b\b\b\b\b\b\b\b\b\b\b\b\b\b\b\b\b\b\b\b\b\b\b\b\b\b\b\b\b\b\b\b\b\b\b\b\b\b\b\b\b\b\b\b\b\b\b\b\b\b\b\b\b\b\b\b\b\b\b\b\b\b\r51/51 [==============================] - 9s 178ms/step - loss: 0.0580 - accuracy: 0.9802 - val_loss: 1.4378 - val_accuracy: 0.7074\n",
            "Epoch 25/50\n",
            "50/51 [============================>.] - ETA: 0s - loss: 0.0387 - accuracy: 0.9884"
          ]
        },
        {
          "output_type": "stream",
          "name": "stderr",
          "text": [
            "WARNING:tensorflow:Can save best model only with val_acc available, skipping.\n"
          ]
        },
        {
          "output_type": "stream",
          "name": "stdout",
          "text": [
            "\b\b\b\b\b\b\b\b\b\b\b\b\b\b\b\b\b\b\b\b\b\b\b\b\b\b\b\b\b\b\b\b\b\b\b\b\b\b\b\b\b\b\b\b\b\b\b\b\b\b\b\b\b\b\b\b\b\b\b\b\b\b\b\b\b\b\b\b\b\b\b\b\b\b\b\b\b\b\b\b\b\b\r51/51 [==============================] - 9s 181ms/step - loss: 0.0387 - accuracy: 0.9885 - val_loss: 1.3263 - val_accuracy: 0.7592\n",
            "Epoch 26/50\n",
            "50/51 [============================>.] - ETA: 0s - loss: 0.0173 - accuracy: 0.9956"
          ]
        },
        {
          "output_type": "stream",
          "name": "stderr",
          "text": [
            "WARNING:tensorflow:Can save best model only with val_acc available, skipping.\n"
          ]
        },
        {
          "output_type": "stream",
          "name": "stdout",
          "text": [
            "\b\b\b\b\b\b\b\b\b\b\b\b\b\b\b\b\b\b\b\b\b\b\b\b\b\b\b\b\b\b\b\b\b\b\b\b\b\b\b\b\b\b\b\b\b\b\b\b\b\b\b\b\b\b\b\b\b\b\b\b\b\b\b\b\b\b\b\b\b\b\b\b\b\b\b\b\b\b\b\b\b\b\r51/51 [==============================] - 9s 180ms/step - loss: 0.0173 - accuracy: 0.9956 - val_loss: 1.3650 - val_accuracy: 0.7636\n",
            "Epoch 27/50\n",
            "50/51 [============================>.] - ETA: 0s - loss: 0.0145 - accuracy: 0.9970"
          ]
        },
        {
          "output_type": "stream",
          "name": "stderr",
          "text": [
            "WARNING:tensorflow:Can save best model only with val_acc available, skipping.\n"
          ]
        },
        {
          "output_type": "stream",
          "name": "stdout",
          "text": [
            "\b\b\b\b\b\b\b\b\b\b\b\b\b\b\b\b\b\b\b\b\b\b\b\b\b\b\b\b\b\b\b\b\b\b\b\b\b\b\b\b\b\b\b\b\b\b\b\b\b\b\b\b\b\b\b\b\b\b\b\b\b\b\b\b\b\b\b\b\b\b\b\b\b\b\b\b\b\b\b\b\b\b\r51/51 [==============================] - 8s 165ms/step - loss: 0.0145 - accuracy: 0.9970 - val_loss: 1.4459 - val_accuracy: 0.7523\n",
            "Epoch 28/50\n",
            "50/51 [============================>.] - ETA: 0s - loss: 0.0089 - accuracy: 0.9983"
          ]
        },
        {
          "output_type": "stream",
          "name": "stderr",
          "text": [
            "WARNING:tensorflow:Can save best model only with val_acc available, skipping.\n"
          ]
        },
        {
          "output_type": "stream",
          "name": "stdout",
          "text": [
            "\b\b\b\b\b\b\b\b\b\b\b\b\b\b\b\b\b\b\b\b\b\b\b\b\b\b\b\b\b\b\b\b\b\b\b\b\b\b\b\b\b\b\b\b\b\b\b\b\b\b\b\b\b\b\b\b\b\b\b\b\b\b\b\b\b\b\b\b\b\b\b\b\b\b\b\b\b\b\b\b\b\b\r51/51 [==============================] - 9s 178ms/step - loss: 0.0096 - accuracy: 0.9978 - val_loss: 1.4484 - val_accuracy: 0.7536\n",
            "Epoch 29/50\n",
            "50/51 [============================>.] - ETA: 0s - loss: 0.1067 - accuracy: 0.9695"
          ]
        },
        {
          "output_type": "stream",
          "name": "stderr",
          "text": [
            "WARNING:tensorflow:Can save best model only with val_acc available, skipping.\n"
          ]
        },
        {
          "output_type": "stream",
          "name": "stdout",
          "text": [
            "\b\b\b\b\b\b\b\b\b\b\b\b\b\b\b\b\b\b\b\b\b\b\b\b\b\b\b\b\b\b\b\b\b\b\b\b\b\b\b\b\b\b\b\b\b\b\b\b\b\b\b\b\b\b\b\b\b\b\b\b\b\b\b\b\b\b\b\b\b\b\b\b\b\b\b\b\b\b\b\b\b\b\r51/51 [==============================] - 9s 179ms/step - loss: 0.1066 - accuracy: 0.9696 - val_loss: 1.5975 - val_accuracy: 0.7218\n",
            "Epoch 30/50\n",
            "50/51 [============================>.] - ETA: 0s - loss: 0.0561 - accuracy: 0.9812"
          ]
        },
        {
          "output_type": "stream",
          "name": "stderr",
          "text": [
            "WARNING:tensorflow:Can save best model only with val_acc available, skipping.\n"
          ]
        },
        {
          "output_type": "stream",
          "name": "stdout",
          "text": [
            "\b\b\b\b\b\b\b\b\b\b\b\b\b\b\b\b\b\b\b\b\b\b\b\b\b\b\b\b\b\b\b\b\b\b\b\b\b\b\b\b\b\b\b\b\b\b\b\b\b\b\b\b\b\b\b\b\b\b\b\b\b\b\b\b\b\b\b\b\b\b\b\b\b\b\b\b\b\b\b\b\b\b\r51/51 [==============================] - 9s 185ms/step - loss: 0.0564 - accuracy: 0.9811 - val_loss: 1.4000 - val_accuracy: 0.7461\n",
            "Epoch 31/50\n",
            "50/51 [============================>.] - ETA: 0s - loss: 0.0612 - accuracy: 0.9812"
          ]
        },
        {
          "output_type": "stream",
          "name": "stderr",
          "text": [
            "WARNING:tensorflow:Can save best model only with val_acc available, skipping.\n"
          ]
        },
        {
          "output_type": "stream",
          "name": "stdout",
          "text": [
            "\b\b\b\b\b\b\b\b\b\b\b\b\b\b\b\b\b\b\b\b\b\b\b\b\b\b\b\b\b\b\b\b\b\b\b\b\b\b\b\b\b\b\b\b\b\b\b\b\b\b\b\b\b\b\b\b\b\b\b\b\b\b\b\b\b\b\b\b\b\b\b\b\b\b\b\b\b\b\b\b\b\b\r51/51 [==============================] - 9s 167ms/step - loss: 0.0616 - accuracy: 0.9811 - val_loss: 1.3869 - val_accuracy: 0.7455\n",
            "Epoch 32/50\n",
            "50/51 [============================>.] - ETA: 0s - loss: 0.1556 - accuracy: 0.9503"
          ]
        },
        {
          "output_type": "stream",
          "name": "stderr",
          "text": [
            "WARNING:tensorflow:Can save best model only with val_acc available, skipping.\n"
          ]
        },
        {
          "output_type": "stream",
          "name": "stdout",
          "text": [
            "\b\b\b\b\b\b\b\b\b\b\b\b\b\b\b\b\b\b\b\b\b\b\b\b\b\b\b\b\b\b\b\b\b\b\b\b\b\b\b\b\b\b\b\b\b\b\b\b\b\b\b\b\b\b\b\b\b\b\b\b\b\b\b\b\b\b\b\b\b\b\b\b\b\b\b\b\b\b\b\b\b\b\r51/51 [==============================] - 9s 177ms/step - loss: 0.1560 - accuracy: 0.9501 - val_loss: 1.4405 - val_accuracy: 0.7043\n",
            "Epoch 33/50\n",
            "50/51 [============================>.] - ETA: 0s - loss: 0.1348 - accuracy: 0.9552"
          ]
        },
        {
          "output_type": "stream",
          "name": "stderr",
          "text": [
            "WARNING:tensorflow:Can save best model only with val_acc available, skipping.\n"
          ]
        },
        {
          "output_type": "stream",
          "name": "stdout",
          "text": [
            "\b\b\b\b\b\b\b\b\b\b\b\b\b\b\b\b\b\b\b\b\b\b\b\b\b\b\b\b\b\b\b\b\b\b\b\b\b\b\b\b\b\b\b\b\b\b\b\b\b\b\b\b\b\b\b\b\b\b\b\b\b\b\b\b\b\b\b\b\b\b\b\b\b\b\b\b\b\b\b\b\b\b\r51/51 [==============================] - 9s 178ms/step - loss: 0.1353 - accuracy: 0.9551 - val_loss: 1.3914 - val_accuracy: 0.7024\n",
            "Epoch 34/50\n",
            "50/51 [============================>.] - ETA: 0s - loss: 0.1463 - accuracy: 0.9542"
          ]
        },
        {
          "output_type": "stream",
          "name": "stderr",
          "text": [
            "WARNING:tensorflow:Can save best model only with val_acc available, skipping.\n"
          ]
        },
        {
          "output_type": "stream",
          "name": "stdout",
          "text": [
            "\b\b\b\b\b\b\b\b\b\b\b\b\b\b\b\b\b\b\b\b\b\b\b\b\b\b\b\b\b\b\b\b\b\b\b\b\b\b\b\b\b\b\b\b\b\b\b\b\b\b\b\b\b\b\b\b\b\b\b\b\b\b\b\b\b\b\b\b\b\b\b\b\b\b\b\b\b\b\b\b\b\b\r51/51 [==============================] - 9s 179ms/step - loss: 0.1461 - accuracy: 0.9543 - val_loss: 1.1642 - val_accuracy: 0.7455\n",
            "Epoch 35/50\n",
            "50/51 [============================>.] - ETA: 0s - loss: 0.0460 - accuracy: 0.9867"
          ]
        },
        {
          "output_type": "stream",
          "name": "stderr",
          "text": [
            "WARNING:tensorflow:Can save best model only with val_acc available, skipping.\n"
          ]
        },
        {
          "output_type": "stream",
          "name": "stdout",
          "text": [
            "\b\b\b\b\b\b\b\b\b\b\b\b\b\b\b\b\b\b\b\b\b\b\b\b\b\b\b\b\b\b\b\b\b\b\b\b\b\b\b\b\b\b\b\b\b\b\b\b\b\b\b\b\b\b\b\b\b\b\b\b\b\b\b\b\b\b\b\b\b\b\b\b\b\b\b\b\b\b\b\b\b\b\r51/51 [==============================] - 9s 177ms/step - loss: 0.0471 - accuracy: 0.9864 - val_loss: 1.4285 - val_accuracy: 0.7274\n",
            "Epoch 36/50\n",
            "50/51 [============================>.] - ETA: 0s - loss: 0.1551 - accuracy: 0.9478"
          ]
        },
        {
          "output_type": "stream",
          "name": "stderr",
          "text": [
            "WARNING:tensorflow:Can save best model only with val_acc available, skipping.\n"
          ]
        },
        {
          "output_type": "stream",
          "name": "stdout",
          "text": [
            "\b\b\b\b\b\b\b\b\b\b\b\b\b\b\b\b\b\b\b\b\b\b\b\b\b\b\b\b\b\b\b\b\b\b\b\b\b\b\b\b\b\b\b\b\b\b\b\b\b\b\b\b\b\b\b\b\b\b\b\b\b\b\b\b\b\b\b\b\b\b\b\b\b\b\b\b\b\b\b\b\b\b\r51/51 [==============================] - 9s 169ms/step - loss: 0.1549 - accuracy: 0.9479 - val_loss: 1.3667 - val_accuracy: 0.7405\n",
            "Epoch 37/50\n",
            "50/51 [============================>.] - ETA: 0s - loss: 0.0388 - accuracy: 0.9886"
          ]
        },
        {
          "output_type": "stream",
          "name": "stderr",
          "text": [
            "WARNING:tensorflow:Can save best model only with val_acc available, skipping.\n"
          ]
        },
        {
          "output_type": "stream",
          "name": "stdout",
          "text": [
            "\b\b\b\b\b\b\b\b\b\b\b\b\b\b\b\b\b\b\b\b\b\b\b\b\b\b\b\b\b\b\b\b\b\b\b\b\b\b\b\b\b\b\b\b\b\b\b\b\b\b\b\b\b\b\b\b\b\b\b\b\b\b\b\b\b\b\b\b\b\b\b\b\b\b\b\b\b\b\b\b\b\b\r51/51 [==============================] - 9s 186ms/step - loss: 0.0387 - accuracy: 0.9886 - val_loss: 1.3637 - val_accuracy: 0.7511\n",
            "Epoch 38/50\n",
            "50/51 [============================>.] - ETA: 0s - loss: 0.0196 - accuracy: 0.9950"
          ]
        },
        {
          "output_type": "stream",
          "name": "stderr",
          "text": [
            "WARNING:tensorflow:Can save best model only with val_acc available, skipping.\n"
          ]
        },
        {
          "output_type": "stream",
          "name": "stdout",
          "text": [
            "\b\b\b\b\b\b\b\b\b\b\b\b\b\b\b\b\b\b\b\b\b\b\b\b\b\b\b\b\b\b\b\b\b\b\b\b\b\b\b\b\b\b\b\b\b\b\b\b\b\b\b\b\b\b\b\b\b\b\b\b\b\b\b\b\b\b\b\b\b\b\b\b\b\b\b\b\b\b\b\b\b\b\r51/51 [==============================] - 9s 177ms/step - loss: 0.0204 - accuracy: 0.9947 - val_loss: 1.4010 - val_accuracy: 0.7523\n",
            "Epoch 39/50\n",
            "50/51 [============================>.] - ETA: 0s - loss: 0.0595 - accuracy: 0.9820"
          ]
        },
        {
          "output_type": "stream",
          "name": "stderr",
          "text": [
            "WARNING:tensorflow:Can save best model only with val_acc available, skipping.\n"
          ]
        },
        {
          "output_type": "stream",
          "name": "stdout",
          "text": [
            "\b\b\b\b\b\b\b\b\b\b\b\b\b\b\b\b\b\b\b\b\b\b\b\b\b\b\b\b\b\b\b\b\b\b\b\b\b\b\b\b\b\b\b\b\b\b\b\b\b\b\b\b\b\b\b\b\b\b\b\b\b\b\b\b\b\b\b\b\b\b\b\b\b\b\b\b\b\b\b\b\b\b\r51/51 [==============================] - 9s 182ms/step - loss: 0.0595 - accuracy: 0.9821 - val_loss: 1.4384 - val_accuracy: 0.7324\n",
            "Epoch 40/50\n",
            "50/51 [============================>.] - ETA: 0s - loss: 0.0176 - accuracy: 0.9959"
          ]
        },
        {
          "output_type": "stream",
          "name": "stderr",
          "text": [
            "WARNING:tensorflow:Can save best model only with val_acc available, skipping.\n"
          ]
        },
        {
          "output_type": "stream",
          "name": "stdout",
          "text": [
            "\b\b\b\b\b\b\b\b\b\b\b\b\b\b\b\b\b\b\b\b\b\b\b\b\b\b\b\b\b\b\b\b\b\b\b\b\b\b\b\b\b\b\b\b\b\b\b\b\b\b\b\b\b\b\b\b\b\b\b\b\b\b\b\b\b\b\b\b\b\b\b\b\b\b\b\b\b\b\b\b\b\b\r51/51 [==============================] - 8s 164ms/step - loss: 0.0180 - accuracy: 0.9958 - val_loss: 1.4559 - val_accuracy: 0.7411\n",
            "Epoch 41/50\n",
            "50/51 [============================>.] - ETA: 0s - loss: 0.1657 - accuracy: 0.9519"
          ]
        },
        {
          "output_type": "stream",
          "name": "stderr",
          "text": [
            "WARNING:tensorflow:Can save best model only with val_acc available, skipping.\n"
          ]
        },
        {
          "output_type": "stream",
          "name": "stdout",
          "text": [
            "\b\b\b\b\b\b\b\b\b\b\b\b\b\b\b\b\b\b\b\b\b\b\b\b\b\b\b\b\b\b\b\b\b\b\b\b\b\b\b\b\b\b\b\b\b\b\b\b\b\b\b\b\b\b\b\b\b\b\b\b\b\b\b\b\b\b\b\b\b\b\b\b\b\b\b\b\b\b\b\b\b\b\r51/51 [==============================] - 9s 178ms/step - loss: 0.1663 - accuracy: 0.9518 - val_loss: 1.2925 - val_accuracy: 0.7318\n",
            "Epoch 42/50\n",
            "50/51 [============================>.] - ETA: 0s - loss: 0.0685 - accuracy: 0.9797"
          ]
        },
        {
          "output_type": "stream",
          "name": "stderr",
          "text": [
            "WARNING:tensorflow:Can save best model only with val_acc available, skipping.\n"
          ]
        },
        {
          "output_type": "stream",
          "name": "stdout",
          "text": [
            "\b\b\b\b\b\b\b\b\b\b\b\b\b\b\b\b\b\b\b\b\b\b\b\b\b\b\b\b\b\b\b\b\b\b\b\b\b\b\b\b\b\b\b\b\b\b\b\b\b\b\b\b\b\b\b\b\b\b\b\b\b\b\b\b\b\b\b\b\b\b\b\b\b\b\b\b\b\b\b\b\b\b\r51/51 [==============================] - 9s 179ms/step - loss: 0.0699 - accuracy: 0.9794 - val_loss: 1.2245 - val_accuracy: 0.7505\n",
            "Epoch 43/50\n",
            "50/51 [============================>.] - ETA: 0s - loss: 0.0898 - accuracy: 0.9731"
          ]
        },
        {
          "output_type": "stream",
          "name": "stderr",
          "text": [
            "WARNING:tensorflow:Can save best model only with val_acc available, skipping.\n"
          ]
        },
        {
          "output_type": "stream",
          "name": "stdout",
          "text": [
            "\b\b\b\b\b\b\b\b\b\b\b\b\b\b\b\b\b\b\b\b\b\b\b\b\b\b\b\b\b\b\b\b\b\b\b\b\b\b\b\b\b\b\b\b\b\b\b\b\b\b\b\b\b\b\b\b\b\b\b\b\b\b\b\b\b\b\b\b\b\b\b\b\b\b\b\b\b\b\b\b\b\b\r51/51 [==============================] - 9s 183ms/step - loss: 0.0908 - accuracy: 0.9730 - val_loss: 1.2169 - val_accuracy: 0.7349\n",
            "Epoch 44/50\n",
            "50/51 [============================>.] - ETA: 0s - loss: 0.0362 - accuracy: 0.9906"
          ]
        },
        {
          "output_type": "stream",
          "name": "stderr",
          "text": [
            "WARNING:tensorflow:Can save best model only with val_acc available, skipping.\n"
          ]
        },
        {
          "output_type": "stream",
          "name": "stdout",
          "text": [
            "\b\b\b\b\b\b\b\b\b\b\b\b\b\b\b\b\b\b\b\b\b\b\b\b\b\b\b\b\b\b\b\b\b\b\b\b\b\b\b\b\b\b\b\b\b\b\b\b\b\b\b\b\b\b\b\b\b\b\b\b\b\b\b\b\b\b\b\b\b\b\b\b\b\b\b\b\b\b\b\b\b\b\r51/51 [==============================] - 9s 173ms/step - loss: 0.0361 - accuracy: 0.9906 - val_loss: 1.2194 - val_accuracy: 0.7586\n",
            "Epoch 45/50\n",
            "50/51 [============================>.] - ETA: 0s - loss: 0.0190 - accuracy: 0.9953"
          ]
        },
        {
          "output_type": "stream",
          "name": "stderr",
          "text": [
            "WARNING:tensorflow:Can save best model only with val_acc available, skipping.\n"
          ]
        },
        {
          "output_type": "stream",
          "name": "stdout",
          "text": [
            "\b\b\b\b\b\b\b\b\b\b\b\b\b\b\b\b\b\b\b\b\b\b\b\b\b\b\b\b\b\b\b\b\b\b\b\b\b\b\b\b\b\b\b\b\b\b\b\b\b\b\b\b\b\b\b\b\b\b\b\b\b\b\b\b\b\b\b\b\b\b\b\b\b\b\b\b\b\b\b\b\b\b\r51/51 [==============================] - 9s 178ms/step - loss: 0.0190 - accuracy: 0.9953 - val_loss: 1.2817 - val_accuracy: 0.7492\n",
            "Epoch 46/50\n",
            "50/51 [============================>.] - ETA: 0s - loss: 0.0142 - accuracy: 0.9964"
          ]
        },
        {
          "output_type": "stream",
          "name": "stderr",
          "text": [
            "WARNING:tensorflow:Can save best model only with val_acc available, skipping.\n"
          ]
        },
        {
          "output_type": "stream",
          "name": "stdout",
          "text": [
            "\b\b\b\b\b\b\b\b\b\b\b\b\b\b\b\b\b\b\b\b\b\b\b\b\b\b\b\b\b\b\b\b\b\b\b\b\b\b\b\b\b\b\b\b\b\b\b\b\b\b\b\b\b\b\b\b\b\b\b\b\b\b\b\b\b\b\b\b\b\b\b\b\b\b\b\b\b\b\b\b\b\b\r51/51 [==============================] - 9s 184ms/step - loss: 0.0142 - accuracy: 0.9964 - val_loss: 1.4516 - val_accuracy: 0.7467\n",
            "Epoch 47/50\n",
            "50/51 [============================>.] - ETA: 0s - loss: 0.0106 - accuracy: 0.9973"
          ]
        },
        {
          "output_type": "stream",
          "name": "stderr",
          "text": [
            "WARNING:tensorflow:Can save best model only with val_acc available, skipping.\n"
          ]
        },
        {
          "output_type": "stream",
          "name": "stdout",
          "text": [
            "\b\b\b\b\b\b\b\b\b\b\b\b\b\b\b\b\b\b\b\b\b\b\b\b\b\b\b\b\b\b\b\b\b\b\b\b\b\b\b\b\b\b\b\b\b\b\b\b\b\b\b\b\b\b\b\b\b\b\b\b\b\b\b\b\b\b\b\b\b\b\b\b\b\b\b\b\b\b\b\b\b\b\r51/51 [==============================] - 9s 183ms/step - loss: 0.0106 - accuracy: 0.9973 - val_loss: 1.4402 - val_accuracy: 0.7505\n",
            "Epoch 48/50\n",
            "50/51 [============================>.] - ETA: 0s - loss: 0.0105 - accuracy: 0.9969"
          ]
        },
        {
          "output_type": "stream",
          "name": "stderr",
          "text": [
            "WARNING:tensorflow:Can save best model only with val_acc available, skipping.\n"
          ]
        },
        {
          "output_type": "stream",
          "name": "stdout",
          "text": [
            "\b\b\b\b\b\b\b\b\b\b\b\b\b\b\b\b\b\b\b\b\b\b\b\b\b\b\b\b\b\b\b\b\b\b\b\b\b\b\b\b\b\b\b\b\b\b\b\b\b\b\b\b\b\b\b\b\b\b\b\b\b\b\b\b\b\b\b\b\b\b\b\b\b\b\b\b\b\b\b\b\b\b\r51/51 [==============================] - 9s 184ms/step - loss: 0.0105 - accuracy: 0.9969 - val_loss: 1.4941 - val_accuracy: 0.7430\n",
            "Epoch 49/50\n",
            "50/51 [============================>.] - ETA: 0s - loss: 0.0082 - accuracy: 0.9981"
          ]
        },
        {
          "output_type": "stream",
          "name": "stderr",
          "text": [
            "WARNING:tensorflow:Can save best model only with val_acc available, skipping.\n"
          ]
        },
        {
          "output_type": "stream",
          "name": "stdout",
          "text": [
            "\b\b\b\b\b\b\b\b\b\b\b\b\b\b\b\b\b\b\b\b\b\b\b\b\b\b\b\b\b\b\b\b\b\b\b\b\b\b\b\b\b\b\b\b\b\b\b\b\b\b\b\b\b\b\b\b\b\b\b\b\b\b\b\b\b\b\b\b\b\b\b\b\b\b\b\b\b\b\b\b\b\b\r51/51 [==============================] - 9s 169ms/step - loss: 0.0088 - accuracy: 0.9980 - val_loss: 1.5162 - val_accuracy: 0.7405\n",
            "Epoch 50/50\n",
            "50/51 [============================>.] - ETA: 0s - loss: 0.1281 - accuracy: 0.9616"
          ]
        },
        {
          "output_type": "stream",
          "name": "stderr",
          "text": [
            "WARNING:tensorflow:Can save best model only with val_acc available, skipping.\n"
          ]
        },
        {
          "output_type": "stream",
          "name": "stdout",
          "text": [
            "\b\b\b\b\b\b\b\b\b\b\b\b\b\b\b\b\b\b\b\b\b\b\b\b\b\b\b\b\b\b\b\b\b\b\b\b\b\b\b\b\b\b\b\b\b\b\b\b\b\b\b\b\b\b\b\b\b\b\b\b\b\b\b\b\b\b\b\b\b\b\b\b\b\b\b\b\b\b\b\b\b\b\r51/51 [==============================] - 10s 187ms/step - loss: 0.1280 - accuracy: 0.9616 - val_loss: 1.2719 - val_accuracy: 0.7386\n",
            "Duration: 0:08:22.000251\n"
          ]
        }
      ]
    },
    {
      "cell_type": "code",
      "source": [
        "plt.plot(history.history['accuracy'])\n",
        "\n",
        "plt.plot(history.history['val_accuracy'])\n",
        "\n",
        "plt.title('model accuracy')\n",
        "\n",
        "plt.ylabel('accuracy')\n",
        "\n",
        "plt.xlabel('epoch')\n",
        "\n",
        "plt.legend(['train', 'val'], loc='upper left')\n",
        "\n",
        "plt.show()\n"
      ],
      "metadata": {
        "colab": {
          "base_uri": "https://localhost:8080/",
          "height": 472
        },
        "id": "xQXwlwdDlQf6",
        "outputId": "aac761db-96c3-4e47-a798-a7cf9e130b5a"
      },
      "execution_count": null,
      "outputs": [
        {
          "output_type": "display_data",
          "data": {
            "text/plain": [
              "<Figure size 640x480 with 1 Axes>"
            ],
            "image/png": "[encoded data removed]"
          },
          "metadata": {}
        }
      ]
    },
    {
      "cell_type": "code",
      "source": [
        "plt.plot(history.history['loss'])\n",
        "\n",
        "plt.plot(history.history['val_loss'])\n",
        "\n",
        "plt.title('model loss')\n",
        "\n",
        "plt.ylabel('loss')\n",
        "\n",
        "plt.xlabel('epoch')\n",
        "\n",
        "plt.legend(['train', 'val'], loc='upper left')\n",
        "\n",
        "plt.show()"
      ],
      "metadata": {
        "colab": {
          "base_uri": "https://localhost:8080/",
          "height": 472
        },
        "id": "Gh-Xq0HjpPvJ",
        "outputId": "ec71818e-1c18-4c48-cab2-8256de503043"
      },
      "execution_count": null,
      "outputs": [
        {
          "output_type": "display_data",
          "data": {
            "text/plain": [
              "<Figure size 640x480 with 1 Axes>"
            ],
            "image/png": "[encoded data removed]"
          },
          "metadata": {}
        }
      ]
    }
  ]
}